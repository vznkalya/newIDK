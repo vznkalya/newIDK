{
  "nbformat": 4,
  "nbformat_minor": 0,
  "metadata": {
    "colab": {
      "provenance": [],
      "authorship_tag": "ABX9TyME0JPdIVU7ksCQN7atyy1A",
      "include_colab_link": true
    },
    "kernelspec": {
      "name": "python3",
      "display_name": "Python 3"
    },
    "language_info": {
      "name": "python"
    }
  },
  "cells": [
    {
      "cell_type": "markdown",
      "metadata": {
        "id": "view-in-github",
        "colab_type": "text"
      },
      "source": [
        "<a href=\"https://colab.research.google.com/github/vznkalya/newIDK/blob/main/idk.ipynb\" target=\"_parent\"><img src=\"https://colab.research.google.com/assets/colab-badge.svg\" alt=\"Open In Colab\"/></a>"
      ]
    },
    {
      "cell_type": "code",
      "execution_count": 17,
      "metadata": {
        "colab": {
          "base_uri": "https://localhost:8080/"
        },
        "id": "T-nc0K5yxrDA",
        "outputId": "d913fb71-a485-47b5-d06e-cb42544d1433"
      },
      "outputs": [
        {
          "output_type": "stream",
          "name": "stdout",
          "text": [
            "Укажите оценку: 4\n",
            "Введите коэффициент: 0.4\n",
            "ИДК равен:\n"
          ]
        },
        {
          "output_type": "execute_result",
          "data": {
            "text/plain": [
              "1.6"
            ]
          },
          "metadata": {},
          "execution_count": 17
        }
      ],
      "source": [
        "def idk_result(x:float, y:float):\n",
        "  res = x * y\n",
        "  return res\n",
        "marks = -1\n",
        "marks = int(input(\"Укажите оценку: \"))\n",
        "if (marks<2 or marks>5):\n",
        "  while marks<2 or marks>5:\n",
        "    marks = int(input(\"Оценка должна быть от 2 до 5. Укажите оценку: \"))\n",
        "\n",
        "koef = float(input(\"Введите коэффициент: \"))\n",
        "\n",
        "\n",
        "print(\"ИДК равен:\")\n",
        "idk_result(marks,koef)"
      ]
    }
  ]
}