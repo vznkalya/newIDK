{
  "nbformat": 4,
  "nbformat_minor": 0,
  "metadata": {
    "colab": {
      "provenance": [],
      "authorship_tag": "ABX9TyPuTNlNhubMLFndHJQLjsyg",
      "include_colab_link": true
    },
    "kernelspec": {
      "name": "python3",
      "display_name": "Python 3"
    },
    "language_info": {
      "name": "python"
    }
  },
  "cells": [
    {
      "cell_type": "markdown",
      "metadata": {
        "id": "view-in-github",
        "colab_type": "text"
      },
      "source": [
        "<a href=\"https://colab.research.google.com/github/vznkalya/newIDK/blob/main/idk.ipynb\" target=\"_parent\"><img src=\"https://colab.research.google.com/assets/colab-badge.svg\" alt=\"Open In Colab\"/></a>"
      ]
    },
    {
      "cell_type": "code",
      "execution_count": 6,
      "metadata": {
        "colab": {
          "base_uri": "https://localhost:8080/"
        },
        "id": "T-nc0K5yxrDA",
        "outputId": "e5619cf8-e9af-45d8-ba23-8c421212941c"
      },
      "outputs": [
        {
          "name": "stdout",
          "output_type": "stream",
          "text": [
            "Укажите оценку: 4\n",
            "Введите коэффициент: 0.5\n"
          ]
        },
        {
          "output_type": "execute_result",
          "data": {
            "text/plain": [
              "2.0"
            ]
          },
          "metadata": {},
          "execution_count": 6
        }
      ],
      "source": [
        "def idk_result(x:float, y:float):\n",
        "  res = x * y\n",
        "  return res\n",
        "\n",
        "marks = int(input(\"Укажите оценку: \"))\n",
        "koef = float(input(\"Введите коэффициент: \"))\n",
        "\n",
        "idk_result(marks,koef)"
      ]
    }
  ]
}