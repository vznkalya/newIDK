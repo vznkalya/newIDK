{
  "nbformat": 4,
  "nbformat_minor": 0,
  "metadata": {
    "colab": {
      "provenance": [],
      "authorship_tag": "ABX9TyP1fpxkWCsh+72okjXmB2Y1",
      "include_colab_link": true
    },
    "kernelspec": {
      "name": "python3",
      "display_name": "Python 3"
    },
    "language_info": {
      "name": "python"
    }
  },
  "cells": [
    {
      "cell_type": "markdown",
      "metadata": {
        "id": "view-in-github",
        "colab_type": "text"
      },
      "source": [
        "<a href=\"https://colab.research.google.com/github/vznkalya/newIDK/blob/main/idk.ipynb\" target=\"_parent\"><img src=\"https://colab.research.google.com/assets/colab-badge.svg\" alt=\"Open In Colab\"/></a>"
      ]
    },
    {
      "cell_type": "code",
      "execution_count": 7,
      "metadata": {
        "colab": {
          "base_uri": "https://localhost:8080/"
        },
        "id": "T-nc0K5yxrDA",
        "outputId": "47e6ef0b-db1b-4309-c13b-de250b24db95"
      },
      "outputs": [
        {
          "output_type": "stream",
          "name": "stdout",
          "text": [
            "Укажите оценку: 5\n",
            "Введите коэффициент: 0.75\n",
            "ИДК равен:\n"
          ]
        },
        {
          "output_type": "execute_result",
          "data": {
            "text/plain": [
              "3.75"
            ]
          },
          "metadata": {},
          "execution_count": 7
        }
      ],
      "source": [
        "def idk_result(x:float, y:float):\n",
        "  res = x * y\n",
        "  return res\n",
        "\n",
        "marks = int(input(\"Укажите оценку: \"))\n",
        "koef = float(input(\"Введите коэффициент: \"))\n",
        "\n",
        "\n",
        "print(\"ИДК равен:\")\n",
        "idk_result(marks,koef)"
      ]
    }
  ]
}